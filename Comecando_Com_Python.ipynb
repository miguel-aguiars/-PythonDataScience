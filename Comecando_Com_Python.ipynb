{
 "cells": [
  {
   "cell_type": "markdown",
   "metadata": {},
   "source": [
    "### Exemplo tabela unicode"
   ]
  },
  {
   "cell_type": "code",
   "execution_count": 18,
   "metadata": {},
   "outputs": [
    {
     "data": {
      "text/plain": [
       "'Olá'"
      ]
     },
     "execution_count": 18,
     "metadata": {},
     "output_type": "execute_result"
    }
   ],
   "source": [
    "chr(79) + chr(108) + chr(225)\n"
   ]
  },
  {
   "cell_type": "markdown",
   "metadata": {},
   "source": [
    "### Input"
   ]
  },
  {
   "cell_type": "code",
   "execution_count": 19,
   "metadata": {},
   "outputs": [],
   "source": [
    "nome = input()\n"
   ]
  },
  {
   "cell_type": "code",
   "execution_count": 20,
   "metadata": {},
   "outputs": [],
   "source": [
    "nome = input('Escreva seu nome: ')\n"
   ]
  },
  {
   "cell_type": "code",
   "execution_count": 25,
   "metadata": {},
   "outputs": [
    {
     "name": "stdout",
     "output_type": "stream",
     "text": [
      "Olá, Miguel! Bem-vindo!\n"
     ]
    }
   ],
   "source": [
    "def coletaNome():\n",
    "   nome = input('Escreva seu nome: ') \n",
    "   return print(\"Olá, \" + nome + \"! Bem-vindo!\")\n",
    "\n",
    "\n",
    "\n",
    "## chamando função\n",
    "\n",
    "nome_user = coletaNome()"
   ]
  },
  {
   "cell_type": "code",
   "execution_count": 28,
   "metadata": {},
   "outputs": [
    {
     "data": {
      "text/plain": [
       "int"
      ]
     },
     "execution_count": 28,
     "metadata": {},
     "output_type": "execute_result"
    }
   ],
   "source": [
    "ano_entrada = int(input('Escreva o ano de ingresso do(a) estudante:  '))\n",
    "\n",
    "type(ano_entrada)"
   ]
  },
  {
   "cell_type": "code",
   "execution_count": 29,
   "metadata": {},
   "outputs": [
    {
     "data": {
      "text/plain": [
       "float"
      ]
     },
     "execution_count": 29,
     "metadata": {},
     "output_type": "execute_result"
    }
   ],
   "source": [
    "nota = float(input('A nota de entrada foi:  '))\n",
    "\n",
    "type(nota)"
   ]
  },
  {
   "cell_type": "code",
   "execution_count": 30,
   "metadata": {},
   "outputs": [
    {
     "name": "stdout",
     "output_type": "stream",
     "text": [
      "Ano de entrada 2016 - nota do teste de ingresso 7.6\n"
     ]
    }
   ],
   "source": [
    "\n",
    "print(f'Ano de entrada {ano_entrada} - nota do teste de ingresso {nota}')\n"
   ]
  },
  {
   "cell_type": "code",
   "execution_count": 31,
   "metadata": {},
   "outputs": [
    {
     "name": "stdout",
     "output_type": "stream",
     "text": [
      "O nome da aluna é Ana Maria e sua idade é 17 anos.\n"
     ]
    }
   ],
   "source": [
    "nome = \"Ana Maria\"\n",
    "idade = 17\n",
    "print(f\"O nome da aluna é {nome} e sua idade é {idade} anos.\")\n"
   ]
  },
  {
   "cell_type": "markdown",
   "metadata": {},
   "source": [
    "Tipo de variável\tPalavra-chave\n",
    "string\t%s\n",
    "inteiro\t%d\n",
    "float\t%f\n",
    "caractere\t%c\n",
    "\n",
    "\n"
   ]
  },
  {
   "cell_type": "code",
   "execution_count": 32,
   "metadata": {},
   "outputs": [
    {
     "name": "stdout",
     "output_type": "stream",
     "text": [
      "Nome do aluno: Fabricio Daniel\n"
     ]
    }
   ],
   "source": [
    "nome_aluno = 'Fabricio Daniel'\n",
    "\n",
    "print('Nome do aluno: %s' %(nome_aluno))\n"
   ]
  },
  {
   "cell_type": "code",
   "execution_count": 33,
   "metadata": {},
   "outputs": [
    {
     "name": "stdout",
     "output_type": "stream",
     "text": [
      "Nome do aluno é Fabricio Daniel, ele tem 15 anos e sua média é 8.450000.\n"
     ]
    }
   ],
   "source": [
    "nome_aluno = 'Fabricio Daniel'\n",
    "idade_aluno = 15\n",
    "media_aluno = 8.45\n",
    "\n",
    "print('Nome do aluno é %s, ele tem %d anos e sua média é %f.' %(nome_aluno, idade_aluno, media_aluno))\n"
   ]
  },
  {
   "cell_type": "markdown",
   "metadata": {},
   "source": [
    "## quebra de linha "
   ]
  },
  {
   "cell_type": "code",
   "execution_count": 34,
   "metadata": {},
   "outputs": [
    {
     "name": "stdout",
     "output_type": "stream",
     "text": [
      "Estudar é um esforço constante,\n",
      "É como cultivar uma planta,\n",
      "Precisamos de dedicação e paciência,\n",
      "Para ver o fruto amadurecer.\n"
     ]
    }
   ],
   "source": [
    "print(\"Estudar é um esforço constante,\\nÉ como cultivar uma planta,\\nPrecisamos de dedicação e paciência,\\nPara ver o fruto amadurecer.\")\n"
   ]
  },
  {
   "cell_type": "markdown",
   "metadata": {},
   "source": [
    "Coleta e amostragem de dados\n",
    "Crie um programa que solicite à pessoa usuária digitar seu nome, e imprima “Olá, [nome]!”.\n",
    "Crie um programa que solicite à pessoa usuária digitar seu nome e idade, e imprima “Olá, [nome], você tem [idade] anos.”.\n",
    "Crie um programa que solicite à pessoa usuária digitar seu nome, idade e altura em metros, e imprima “Olá, [nome], você tem [idade] anos e mede [altura] metros!”."
   ]
  },
  {
   "cell_type": "code",
   "execution_count": 37,
   "metadata": {},
   "outputs": [
    {
     "name": "stdout",
     "output_type": "stream",
     "text": [
      "Olá, Miguel, vocÊ tem 26 anos e 1.850000 metros de altura.\n"
     ]
    }
   ],
   "source": [
    "def coletaDadosPessoais():\n",
    "   nome = input('Escreva seu nome: ') \n",
    "   idade = int(input('Sua idade: ')) \n",
    "   altura = float(input('Sua altura (em metros): ')).__round__(2)\n",
    "\n",
    "   return print(\"Olá, %s, você tem %d anos e %f metros de altura.\" %(nome, idade, altura))\n",
    "\n",
    "\n",
    "\n",
    "## chamando função\n",
    "\n",
    "teste1 = coletaDadosPessoais()"
   ]
  },
  {
   "cell_type": "markdown",
   "metadata": {},
   "source": [
    "Crie um programa que solicite dois valores numéricos à pessoa usuária e imprima a soma dos dois valores.\n",
    "Crie um programa que solicite três valores numéricos à pessoa usuária e imprima a soma dos três valores.\n",
    "Crie um programa que solicite dois valores numéricos à pessoa usuária e imprima a subtração do primeiro pelo o segundo valor.\n",
    "Crie um programa que solicite dois valores numéricos à pessoa usuária e imprima a multiplicação dos dois valores.\n",
    "Crie um programa que solicite dois valores numéricos, um numerador e um denominador, e realize a divisão entre os dois valores. Deixe claro que o valor do denominador não pode ser 0.\n",
    "Crie um programa que solicite dois valores numéricos, um operador e uma potência, e realize a exponenciação entre esses dois valores.\n",
    "Crie um programa que solicite dois valores numéricos, um numerador e um denominador e realize a divisão inteira entre os dois valores. Deixe claro que o valor do denominador não pode ser 0.\n",
    "Crie um programa que solicite dois valores numéricos, um numerador e um denominador, e retorne o resto da divisão entre os dois valores. Deixe claro que o valor do denominador não pode ser 0.\n",
    "Crie um código que solicita 3 notas de um estudante e imprima a média das notas.\n",
    "Crie um código que calcule e imprima a média ponderada dos números 5, 12, 20 e 15 com pesos respectivamente iguais a 1, 2, 3 e 4."
   ]
  },
  {
   "cell_type": "code",
   "execution_count": 2,
   "metadata": {},
   "outputs": [
    {
     "name": "stdout",
     "output_type": "stream",
     "text": [
      "A soma dos dois números deu 879254. \n"
     ]
    }
   ],
   "source": [
    "##Crie um programa que solicite dois valores numéricos à pessoa usuária e imprima a soma dos dois valores.\n",
    "\n",
    "def solicitaNumeros():\n",
    "   num1 = int(input('Digite o primeiro número: ')) \n",
    "   num2 = int(input('Digite o segundo númreo: ')) \n",
    "   soma = (num1 + num2)\n",
    "\n",
    "   return print(\"A soma dos dois números deu %i. \" %(soma))\n",
    "\n",
    "## chamando função\n",
    "\n",
    "teste1 = solicitaNumeros()"
   ]
  },
  {
   "cell_type": "code",
   "execution_count": 3,
   "metadata": {},
   "outputs": [
    {
     "name": "stdout",
     "output_type": "stream",
     "text": [
      "A soma dos dois números deu 6. \n"
     ]
    }
   ],
   "source": [
    "##Crie um programa que solicite três valores numéricos à pessoa usuária e imprima a soma dos três valores.\n",
    "\n",
    "def solicitaNumerosv2():\n",
    "   num1 = int(input('Digite o primeiro número: ')) \n",
    "   num2 = int(input('Digite o segundo número: ')) \n",
    "   num3 = int(input('Digite o terceiro número: ')) \n",
    "   soma = (num1 + num2 + num3)\n",
    "\n",
    "   return print(\"A soma dos dois números deu %i. \" %(soma))\n",
    "\n",
    "## chamando função\n",
    "\n",
    "teste1 = solicitaNumerosv2()"
   ]
  },
  {
   "cell_type": "code",
   "execution_count": 5,
   "metadata": {},
   "outputs": [
    {
     "name": "stdout",
     "output_type": "stream",
     "text": [
      "A diferença entre os dois números deu 2. \n"
     ]
    }
   ],
   "source": [
    "##Crie um programa que solicite dois valores numéricos à pessoa usuária e imprima a subtração do primeiro pelo o segundo valor.\n",
    "\n",
    "def solicitaNumerosv3():\n",
    "   num1 = int(input('Digite o primeiro número: ')) \n",
    "   num2 = int(input('Digite o segundo número: ')) \n",
    "   sub = (num1 - num2)\n",
    "\n",
    "   return print(\"A diferença entre os dois números é %i. \" %(sub))\n",
    "\n",
    "## chamando função\n",
    "\n",
    "teste1 = solicitaNumerosv3()"
   ]
  },
  {
   "cell_type": "code",
   "execution_count": 6,
   "metadata": {},
   "outputs": [
    {
     "name": "stdout",
     "output_type": "stream",
     "text": [
      "O produto da multiplicação dos dois números é 36. \n"
     ]
    }
   ],
   "source": [
    "##Crie um programa que solicite dois valores numéricos à pessoa usuária e imprima a multiplicação dos dois valores.\n",
    "\n",
    "def solicitaNumerosv4():\n",
    "   num1 = int(input('Digite o primeiro número: ')) \n",
    "   num2 = int(input('Digite o segundo número: ')) \n",
    "   mult = (num1 * num2)\n",
    "\n",
    "   return print(\"O produto da multiplicação dos dois números é %i. \" %(mult))\n",
    "\n",
    "## chamando função\n",
    "\n",
    "teste1 = solicitaNumerosv4()"
   ]
  },
  {
   "cell_type": "code",
   "execution_count": 10,
   "metadata": {},
   "outputs": [
    {
     "name": "stdout",
     "output_type": "stream",
     "text": [
      "Erro: O denominador não pode ser zero. Tente novamente.\n",
      "Resultado da divisão: 4.5\n"
     ]
    }
   ],
   "source": [
    "## Crie um programa que solicite dois valores numéricos, um numerador e um denominador, e realize a divisão entre os dois valores. Deixe claro que o valor do denominador não pode ser 0.\n",
    "\n",
    "\n",
    "while True:\n",
    "    try:\n",
    "        numerador = float(input(\"Digite o numerador: \"))\n",
    "        denominador = float(input(\"Digite o denominador: \"))\n",
    "        \n",
    "        # Verifica se o denominador é zero\n",
    "        if denominador == 0:\n",
    "            print(\"Erro: O denominador não pode ser zero. Tente novamente.\")\n",
    "        else:\n",
    "            resultado = numerador / denominador\n",
    "            print(f\"Resultado da divisão: {resultado}\")\n",
    "            break  # Sai do loop se a divisão for bem-sucedida\n",
    "    except ValueError:\n",
    "        print(\"Erro: Certifique-se de inserir números válidos. Tente novamente.\")\n",
    "    except ZeroDivisionError:\n",
    "        print(\"Erro: O denominador não pode ser zero. Tente novamente.\")\n",
    "\n",
    "   \n",
    "  \n"
   ]
  },
  {
   "cell_type": "code",
   "execution_count": 5,
   "metadata": {},
   "outputs": [
    {
     "name": "stdout",
     "output_type": "stream",
     "text": [
      "O resultado de 5 elevado a 5 é 3125.\n"
     ]
    }
   ],
   "source": [
    "## Crie um programa que solicite dois valores numéricos, um operador e uma potência, e realize a exponenciação entre esses dois valores.\n",
    "\n",
    "\n",
    "def solicitaNumeroPotencia():\n",
    "\n",
    "    import numpy as np\n",
    "\n",
    "    operador = int(input(\"Digite um número: \"))\n",
    "    potencia = int(input(\"Digite uma potência: \"))\n",
    "\n",
    "    resultado = np.power(operador, potencia)\n",
    "\n",
    "    print(\"O resultado de {0} elevado a {1} é {2}.\".format(operador, potencia, resultado))\n",
    "    \n",
    "\n",
    "solicitaNumeroPotencia()\n",
    "  \n"
   ]
  },
  {
   "cell_type": "code",
   "execution_count": 7,
   "metadata": {},
   "outputs": [
    {
     "name": "stdout",
     "output_type": "stream",
     "text": [
      "Resultado da divisão: 2\n"
     ]
    }
   ],
   "source": [
    "## Crie um programa que solicite dois valores numéricos, um numerador e um denominador e realize a divisão inteira entre os dois valores. Deixe claro que o valor do denominador não pode ser 0.\n",
    "\n",
    "while True:\n",
    "    try:\n",
    "        numerador = int(input(\"Digite o numerador: \"))\n",
    "        denominador = int(input(\"Digite o denominador: \"))\n",
    "        \n",
    "        # Verifica se o denominador é zero\n",
    "        if denominador == 0:\n",
    "            print(\"Erro: O denominador não pode ser zero. Tente novamente.\")\n",
    "        else:\n",
    "            resultado = numerador // denominador\n",
    "            print(f\"Resultado da divisão: {resultado}\")\n",
    "            break  # Sai do loop se a divisão for bem-sucedida\n",
    "    except ValueError:\n",
    "        print(\"Erro: Certifique-se de inserir números válidos. Tente novamente.\")\n",
    "    except ZeroDivisionError:\n",
    "        print(\"Erro: O denominador não pode ser zero. Tente novamente.\")\n"
   ]
  },
  {
   "cell_type": "code",
   "execution_count": 8,
   "metadata": {},
   "outputs": [
    {
     "name": "stdout",
     "output_type": "stream",
     "text": [
      "Resultado da divisão: 0\n"
     ]
    }
   ],
   "source": [
    "## Crie um programa que solicite dois valores numéricos, um numerador e um denominador, e retorne o resto da divisão entre os dois valores. Deixe claro que o valor do denominador não pode ser 0.\n",
    "\n",
    "while True:\n",
    "    try:\n",
    "        numerador = int(input(\"Digite o numerador: \"))\n",
    "        denominador = int(input(\"Digite o denominador: \"))\n",
    "        \n",
    "        # Verifica se o denominador é zero\n",
    "        if denominador == 0:\n",
    "            print(\"Erro: O denominador não pode ser zero. Tente novamente.\")\n",
    "        else:\n",
    "            resultado = numerador % denominador\n",
    "            print(f\"Resultado da divisão: {resultado}\")\n",
    "            break  # Sai do loop se a divisão for bem-sucedida\n",
    "    except ValueError:\n",
    "        print(\"Erro: Certifique-se de inserir números válidos. Tente novamente.\")\n",
    "    except ZeroDivisionError:\n",
    "        print(\"Erro: O denominador não pode ser zero. Tente novamente.\")"
   ]
  },
  {
   "cell_type": "code",
   "execution_count": 2,
   "metadata": {},
   "outputs": [
    {
     "name": "stdout",
     "output_type": "stream",
     "text": [
      "A média das 3 notas do aluno é: 4.0\n"
     ]
    }
   ],
   "source": [
    "## Crie um código que solicita 3 notas de um estudante e imprima a média das notas.\n",
    "def calculaMedia():\n",
    "\n",
    "    import numpy as np\n",
    "\n",
    "    nota1 = int(input(\"Digite a 1ª nota: \"))\n",
    "    nota2 = int(input(\"Digite a 2ª nota: \"))\n",
    "    nota3 = int(input(\"Digite a 3ª nota: \"))\n",
    "\n",
    "    arrayNotas = np.array([nota1, nota2, nota2])\n",
    "\n",
    "    media = np.mean(arrayNotas)\n",
    "\n",
    "    print(f\"A média das 3 notas do aluno é: {media}\")\n",
    "\n",
    "calculaMedia()\n",
    "\n",
    "\n"
   ]
  },
  {
   "cell_type": "code",
   "execution_count": 4,
   "metadata": {},
   "outputs": [
    {
     "name": "stdout",
     "output_type": "stream",
     "text": [
      "A média ponderada dos números 5, 12, 20, 15: 14.9\n"
     ]
    }
   ],
   "source": [
    "## Crie um código que calcule e imprima a média ponderada dos números 5, 12, 20 e 15 com pesos respectivamente iguais a 1, 2, 3 e 4.\n",
    "\n",
    "def calculaMediaPond():\n",
    "\n",
    "    import numpy as np\n",
    "\n",
    "    arrayNum = np.array([5, 12, 20, 15])\n",
    "\n",
    "    mediaPond = np.average(arrayNum, weights= [1, 2, 3, 4])\n",
    "\n",
    "    print(f\"A média ponderada dos números 5, 12, 20, 15: {mediaPond}\")\n",
    "\n",
    "calculaMediaPond()"
   ]
  },
  {
   "cell_type": "code",
   "execution_count": 5,
   "metadata": {},
   "outputs": [],
   "source": [
    "## Crie uma variável chamada “frase” e atribua a ela uma string de sua escolha. Em seguida, imprima a frase na tela.\n",
    "\n",
    "frase = 'n'"
   ]
  },
  {
   "cell_type": "code",
   "execution_count": 6,
   "metadata": {},
   "outputs": [
    {
     "name": "stdout",
     "output_type": "stream",
     "text": [
      "Palmeiras tem mundial\n"
     ]
    }
   ],
   "source": [
    "## Crie um código que solicite uma frase e depois imprima a frase na tela.\n",
    "\n",
    "frase = input(\"Digite uma frase: \")\n",
    "print(frase)"
   ]
  },
  {
   "cell_type": "code",
   "execution_count": 10,
   "metadata": {},
   "outputs": [
    {
     "name": "stdout",
     "output_type": "stream",
     "text": [
      "BOI DA CARA PRETA\n"
     ]
    }
   ],
   "source": [
    "## Crie um código que solicite uma frase à pessoa usuária e imprima a mesma frase digitada mas com todas as letras maiúsculas.\n",
    "\n",
    "frase = input(\"Digite uma frase: \")\n",
    "upperIt = frase.upper()\n",
    "print(upperIt)"
   ]
  },
  {
   "cell_type": "code",
   "execution_count": 11,
   "metadata": {},
   "outputs": [
    {
     "name": "stdout",
     "output_type": "stream",
     "text": [
      "opaaaaaaaa\n"
     ]
    }
   ],
   "source": [
    "## Crie um código que solicite uma frase à pessoa usuária e imprima a mesma frase digitada mas com todas as letras minúsculas.\n",
    "\n",
    "frase = input(\"Digite uma frase: \")\n",
    "lowerIt = frase.lower()\n",
    "print(lowerIt)"
   ]
  },
  {
   "cell_type": "code",
   "execution_count": 13,
   "metadata": {},
   "outputs": [
    {
     "name": "stdout",
     "output_type": "stream",
     "text": [
      "batataoassadoovocozido\n"
     ]
    }
   ],
   "source": [
    "## Crie uma variável chamada “frase” e atribua a ela uma string de sua escolha. Em seguida, imprima a frase sem espaços em branco no início e no fim.\n",
    "\n",
    "frase = input(\"Digite uma frase: \")\n",
    "frase_sem_espacos = \"\".join(frase.split())\n",
    "print(frase_sem_espacos)"
   ]
  },
  {
   "cell_type": "code",
   "execution_count": 14,
   "metadata": {},
   "outputs": [
    {
     "name": "stdout",
     "output_type": "stream",
     "text": [
      "tetoovoperu\n"
     ]
    }
   ],
   "source": [
    "## Crie um código que solicite uma frase à pessoa usuária e imprima a mesma frase sem espaços em branco no início e no fim.\n",
    "\n",
    "frase = input(\"Digite uma frase: \")\n",
    "frase_sem_espacos = \"\".join(frase.split())\n",
    "print(frase_sem_espacos)"
   ]
  },
  {
   "cell_type": "code",
   "execution_count": 1,
   "metadata": {},
   "outputs": [
    {
     "name": "stdout",
     "output_type": "stream",
     "text": [
      "migufl\n"
     ]
    }
   ],
   "source": [
    "## Crie um código que solicite uma frase à pessoa usuária e imprima a mesma frase com todas as vogais “e” trocadas pela letra “f”.\n",
    "\n",
    "def verifica_substring():   \n",
    "\n",
    "    frase = input(\"Digite uma frase: \")\n",
    "\n",
    "    substring_procurada = \"e\"\n",
    "\n",
    "    if frase.find(\"e\"):\n",
    "        frase_new = frase.replace(\"e\", \"f\")\n",
    "        print(frase_new)\n",
    "    else:\n",
    "        print(frase)\n",
    "\n",
    "verifica_substring()\n",
    "\n",
    "\n"
   ]
  },
  {
   "cell_type": "code",
   "execution_count": 2,
   "metadata": {},
   "outputs": [
    {
     "name": "stdout",
     "output_type": "stream",
     "text": [
      "b@n@n@\n"
     ]
    }
   ],
   "source": [
    "## Crie um código que solicite uma frase à pessoa usuária e imprima a mesma frase com todas as vogais “a” trocadas pela caractere “@”.\n",
    "\n",
    "def verifica_substring():   \n",
    "\n",
    "    frase = input(\"Digite uma frase: \")\n",
    "\n",
    "    substring_procurada = \"a\"\n",
    "\n",
    "    if frase.find(\"a\"):\n",
    "        frase_new = frase.replace(\"a\", \"@\")\n",
    "        print(frase_new)\n",
    "    else:\n",
    "        print(frase)\n",
    "\n",
    "verifica_substring()"
   ]
  },
  {
   "cell_type": "code",
   "execution_count": null,
   "metadata": {},
   "outputs": [],
   "source": [
    "## Crie um código que solicite uma frase à pessoa usuária e imprima a mesma frase com todas as consoantes “s” trocadas pelo caractere “$”.\n",
    "\n",
    "def verifica_substring():   \n",
    "\n",
    "    frase = input(\"Digite uma frase: \")\n",
    "\n",
    "    substring_procurada = \"a\"\n",
    "\n",
    "    if frase.find(\"a\"):\n",
    "        frase_new = frase.replace(\"a\", \"@\")\n",
    "        print(frase_new)\n",
    "    else:\n",
    "        print(frase)\n",
    "\n",
    "verifica_substring()"
   ]
  },
  {
   "cell_type": "code",
   "execution_count": null,
   "metadata": {},
   "outputs": [],
   "source": [
    "## Estruturas condicionais"
   ]
  },
  {
   "cell_type": "code",
   "execution_count": 2,
   "metadata": {},
   "outputs": [
    {
     "name": "stdout",
     "output_type": "stream",
     "text": [
      "Beatriz é mais nova que Maria.\n"
     ]
    }
   ],
   "source": [
    "idade_maria = int(input('Digite a idade da Maria: '))\n",
    "idade_beatriz = int(input('Digite a idade da Beatriz: '))\n",
    "\n",
    "if idade_maria < idade_beatriz:\n",
    "  print('Maria é mais nova que Beatriz.')\n",
    "else:\n",
    "  print('Beatriz é mais nova que Maria.')\n"
   ]
  },
  {
   "cell_type": "code",
   "execution_count": 4,
   "metadata": {},
   "outputs": [
    {
     "name": "stdout",
     "output_type": "stream",
     "text": [
      "Aprovado(a)\n"
     ]
    }
   ],
   "source": [
    "media = float(input('Digite a média: '))\n",
    "\n",
    "if media >= 6.0:\n",
    "  print('Aprovado(a)')\n",
    "else:\n",
    "  print('Reprovado(a)')\n"
   ]
  },
  {
   "cell_type": "code",
   "execution_count": 5,
   "metadata": {},
   "outputs": [
    {
     "name": "stdout",
     "output_type": "stream",
     "text": [
      "Aprovado(a)\n"
     ]
    }
   ],
   "source": [
    "## elif\n",
    "\n",
    "if media >= 6.0:\n",
    "  print('Aprovado(a)')\n",
    "elif 6.0 > media >= 4.0:\n",
    "  print('Recuperação')\n",
    "if media < 4.0:\n",
    "  print('Reprovado(a)')\n"
   ]
  },
  {
   "cell_type": "code",
   "execution_count": 7,
   "metadata": {},
   "outputs": [
    {
     "name": "stdout",
     "output_type": "stream",
     "text": [
      "90\n"
     ]
    }
   ],
   "source": [
    "##1) Escreva um programa que peça à pessoa usuária para fornecer dois números e exibir o número maior.\n",
    "\n",
    "num1 = int(input('Digite o primeiro número: '))\n",
    "num2 = int(input('Digite o segundo número: '))\n",
    "\n",
    "\n",
    "if num1 > num2:\n",
    "  print(num1)\n",
    "else:\n",
    "  print(num2)\n"
   ]
  },
  {
   "cell_type": "code",
   "execution_count": 10,
   "metadata": {},
   "outputs": [
    {
     "name": "stdout",
     "output_type": "stream",
     "text": [
      "Houve um decrescimento de -8.0%\n"
     ]
    }
   ],
   "source": [
    "## 2) Escreva um programa que solicite o percentual de crescimento de produção de uma empresa e \n",
    "## informe se houve um crescimento (porcentagem positiva) ou decrescimento (porcentagem negativa).\n",
    "\n",
    "perc = float(input('Digite o percentual de crescimento da empresa: '))\n",
    "\n",
    "\n",
    "if perc > 0:\n",
    "  print(f'Houve um crescimento de {perc}%.')\n",
    "else:\n",
    "  print(f'Houve um decrescimento de {perc}%.')"
   ]
  },
  {
   "cell_type": "code",
   "execution_count": 13,
   "metadata": {},
   "outputs": [
    {
     "name": "stdout",
     "output_type": "stream",
     "text": [
      "A letra W é uma consoante.\n"
     ]
    }
   ],
   "source": [
    "## 3) Escreva um programa que determine se uma letra fornecida pela pessoa usuária é uma vogal ou consoante.\n",
    "\n",
    "letra = input('Digite uma letra: ')\n",
    "\n",
    "vogal = ['a','e', 'i', 'o', 'u']\n",
    "\n",
    "if letra in vogal:\n",
    "    print(f'A letra {letra.upper()} é uma vogal.')\n",
    "else:\n",
    "    print(f'A letra {letra.upper()} é uma consoante.')\n"
   ]
  },
  {
   "cell_type": "code",
   "execution_count": null,
   "metadata": {},
   "outputs": [],
   "source": [
    "## 4) Escreva um programa que leia valores médios de preços de um modelo de \n",
    "## carro por 3 anos consecutivos e exiba o valor mais alto e mais baixo entre esses três anos.\n",
    "\n",
    "precoAno1 = 40000\n",
    "precoAno2 = 43500\n",
    "precoAno3 = 46000\n",
    "\n",
    "if precoAno1 > precoAno2 and precoAno1 > precoAno3:\n",
    "    print(f'O valor mais alto é:{precoAno1()} e o valor mais baixo é:{}.')\n",
    "else:\n",
    "    print(f'A letra {letra.upper()} é uma consoante.')"
   ]
  }
 ],
 "metadata": {
  "kernelspec": {
   "display_name": "Python 3",
   "language": "python",
   "name": "python3"
  },
  "language_info": {
   "codemirror_mode": {
    "name": "ipython",
    "version": 3
   },
   "file_extension": ".py",
   "mimetype": "text/x-python",
   "name": "python",
   "nbconvert_exporter": "python",
   "pygments_lexer": "ipython3",
   "version": "3.12.0"
  }
 },
 "nbformat": 4,
 "nbformat_minor": 2
}
