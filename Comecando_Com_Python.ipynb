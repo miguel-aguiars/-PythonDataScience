{
 "cells": [
  {
   "cell_type": "markdown",
   "metadata": {},
   "source": [
    "### Exemplo tabela unicode"
   ]
  },
  {
   "cell_type": "code",
   "execution_count": 18,
   "metadata": {},
   "outputs": [
    {
     "data": {
      "text/plain": [
       "'Olá'"
      ]
     },
     "execution_count": 18,
     "metadata": {},
     "output_type": "execute_result"
    }
   ],
   "source": [
    "chr(79) + chr(108) + chr(225)\n"
   ]
  },
  {
   "cell_type": "markdown",
   "metadata": {},
   "source": [
    "### Input"
   ]
  },
  {
   "cell_type": "code",
   "execution_count": 19,
   "metadata": {},
   "outputs": [],
   "source": [
    "nome = input()\n"
   ]
  },
  {
   "cell_type": "code",
   "execution_count": 20,
   "metadata": {},
   "outputs": [],
   "source": [
    "nome = input('Escreva seu nome: ')\n"
   ]
  },
  {
   "cell_type": "code",
   "execution_count": 25,
   "metadata": {},
   "outputs": [
    {
     "name": "stdout",
     "output_type": "stream",
     "text": [
      "Olá, Miguel! Bem-vindo!\n"
     ]
    }
   ],
   "source": [
    "def coletaNome():\n",
    "   nome = input('Escreva seu nome: ') \n",
    "   return print(\"Olá, \" + nome + \"! Bem-vindo!\")\n",
    "\n",
    "\n",
    "\n",
    "## chamando função\n",
    "\n",
    "nome_user = coletaNome()"
   ]
  },
  {
   "cell_type": "code",
   "execution_count": 28,
   "metadata": {},
   "outputs": [
    {
     "data": {
      "text/plain": [
       "int"
      ]
     },
     "execution_count": 28,
     "metadata": {},
     "output_type": "execute_result"
    }
   ],
   "source": [
    "ano_entrada = int(input('Escreva o ano de ingresso do(a) estudante:  '))\n",
    "\n",
    "type(ano_entrada)"
   ]
  },
  {
   "cell_type": "code",
   "execution_count": 29,
   "metadata": {},
   "outputs": [
    {
     "data": {
      "text/plain": [
       "float"
      ]
     },
     "execution_count": 29,
     "metadata": {},
     "output_type": "execute_result"
    }
   ],
   "source": [
    "nota = float(input('A nota de entrada foi:  '))\n",
    "\n",
    "type(nota)"
   ]
  },
  {
   "cell_type": "code",
   "execution_count": 30,
   "metadata": {},
   "outputs": [
    {
     "name": "stdout",
     "output_type": "stream",
     "text": [
      "Ano de entrada 2016 - nota do teste de ingresso 7.6\n"
     ]
    }
   ],
   "source": [
    "\n",
    "print(f'Ano de entrada {ano_entrada} - nota do teste de ingresso {nota}')\n"
   ]
  },
  {
   "cell_type": "code",
   "execution_count": 31,
   "metadata": {},
   "outputs": [
    {
     "name": "stdout",
     "output_type": "stream",
     "text": [
      "O nome da aluna é Ana Maria e sua idade é 17 anos.\n"
     ]
    }
   ],
   "source": [
    "nome = \"Ana Maria\"\n",
    "idade = 17\n",
    "print(f\"O nome da aluna é {nome} e sua idade é {idade} anos.\")\n"
   ]
  },
  {
   "cell_type": "markdown",
   "metadata": {},
   "source": [
    "Tipo de variável\tPalavra-chave\n",
    "string\t%s\n",
    "inteiro\t%d\n",
    "float\t%f\n",
    "caractere\t%c\n",
    "\n",
    "\n"
   ]
  },
  {
   "cell_type": "code",
   "execution_count": 32,
   "metadata": {},
   "outputs": [
    {
     "name": "stdout",
     "output_type": "stream",
     "text": [
      "Nome do aluno: Fabricio Daniel\n"
     ]
    }
   ],
   "source": [
    "nome_aluno = 'Fabricio Daniel'\n",
    "\n",
    "print('Nome do aluno: %s' %(nome_aluno))\n"
   ]
  },
  {
   "cell_type": "code",
   "execution_count": 33,
   "metadata": {},
   "outputs": [
    {
     "name": "stdout",
     "output_type": "stream",
     "text": [
      "Nome do aluno é Fabricio Daniel, ele tem 15 anos e sua média é 8.450000.\n"
     ]
    }
   ],
   "source": [
    "nome_aluno = 'Fabricio Daniel'\n",
    "idade_aluno = 15\n",
    "media_aluno = 8.45\n",
    "\n",
    "print('Nome do aluno é %s, ele tem %d anos e sua média é %f.' %(nome_aluno, idade_aluno, media_aluno))\n"
   ]
  },
  {
   "cell_type": "markdown",
   "metadata": {},
   "source": [
    "## quebra de linha "
   ]
  },
  {
   "cell_type": "code",
   "execution_count": 34,
   "metadata": {},
   "outputs": [
    {
     "name": "stdout",
     "output_type": "stream",
     "text": [
      "Estudar é um esforço constante,\n",
      "É como cultivar uma planta,\n",
      "Precisamos de dedicação e paciência,\n",
      "Para ver o fruto amadurecer.\n"
     ]
    }
   ],
   "source": [
    "print(\"Estudar é um esforço constante,\\nÉ como cultivar uma planta,\\nPrecisamos de dedicação e paciência,\\nPara ver o fruto amadurecer.\")\n"
   ]
  },
  {
   "cell_type": "markdown",
   "metadata": {},
   "source": [
    "Coleta e amostragem de dados\n",
    "Crie um programa que solicite à pessoa usuária digitar seu nome, e imprima “Olá, [nome]!”.\n",
    "Crie um programa que solicite à pessoa usuária digitar seu nome e idade, e imprima “Olá, [nome], você tem [idade] anos.”.\n",
    "Crie um programa que solicite à pessoa usuária digitar seu nome, idade e altura em metros, e imprima “Olá, [nome], você tem [idade] anos e mede [altura] metros!”."
   ]
  },
  {
   "cell_type": "code",
   "execution_count": 37,
   "metadata": {},
   "outputs": [
    {
     "name": "stdout",
     "output_type": "stream",
     "text": [
      "Olá, Miguel, vocÊ tem 26 anos e 1.850000 metros de altura.\n"
     ]
    }
   ],
   "source": [
    "def coletaDadosPessoais():\n",
    "   nome = input('Escreva seu nome: ') \n",
    "   idade = int(input('Sua idade: ')) \n",
    "   altura = float(input('Sua altura (em metros): ')).__round__(2)\n",
    "\n",
    "   return print(\"Olá, %s, você tem %d anos e %f metros de altura.\" %(nome, idade, altura))\n",
    "\n",
    "\n",
    "\n",
    "## chamando função\n",
    "\n",
    "teste1 = coletaDadosPessoais()"
   ]
  }
 ],
 "metadata": {
  "kernelspec": {
   "display_name": "Python 3",
   "language": "python",
   "name": "python3"
  },
  "language_info": {
   "codemirror_mode": {
    "name": "ipython",
    "version": 3
   },
   "file_extension": ".py",
   "mimetype": "text/x-python",
   "name": "python",
   "nbconvert_exporter": "python",
   "pygments_lexer": "ipython3",
   "version": "3.12.0"
  }
 },
 "nbformat": 4,
 "nbformat_minor": 2
}
