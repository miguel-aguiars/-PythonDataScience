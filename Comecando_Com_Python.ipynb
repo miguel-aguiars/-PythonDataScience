{
 "cells": [
  {
   "cell_type": "markdown",
   "metadata": {},
   "source": [
    "### Exemplo tabela unicode"
   ]
  },
  {
   "cell_type": "code",
   "execution_count": null,
   "metadata": {},
   "outputs": [],
   "source": [
    "chr(79) + chr(108) + chr(225)\n"
   ]
  },
  {
   "cell_type": "markdown",
   "metadata": {},
   "source": [
    "### Input"
   ]
  },
  {
   "cell_type": "code",
   "execution_count": null,
   "metadata": {},
   "outputs": [],
   "source": [
    "nome = input()\n"
   ]
  },
  {
   "cell_type": "code",
   "execution_count": null,
   "metadata": {},
   "outputs": [],
   "source": [
    "nome = input('Escreva seu nome: ')\n"
   ]
  },
  {
   "cell_type": "code",
   "execution_count": null,
   "metadata": {},
   "outputs": [],
   "source": [
    "def coletaNome():\n",
    "   nome = input('Escreva seu nome: ') \n",
    "   return print(\"Olá, \" + nome + \"! Bem-vindo!\")\n",
    "\n",
    "\n",
    "\n",
    "## chamando função\n",
    "\n",
    "nome_user = coletaNome()"
   ]
  },
  {
   "cell_type": "code",
   "execution_count": null,
   "metadata": {},
   "outputs": [],
   "source": [
    "ano_entrada = int(input('Escreva o ano de ingresso do(a) estudante:  '))\n",
    "\n",
    "type(ano_entrada)"
   ]
  },
  {
   "cell_type": "code",
   "execution_count": null,
   "metadata": {},
   "outputs": [],
   "source": [
    "nota = float(input('A nota de entrada foi:  '))\n",
    "\n",
    "type(nota)"
   ]
  },
  {
   "cell_type": "code",
   "execution_count": null,
   "metadata": {},
   "outputs": [],
   "source": [
    "\n",
    "print(f'Ano de entrada {ano_entrada} - nota do teste de ingresso {nota}')\n"
   ]
  },
  {
   "cell_type": "code",
   "execution_count": null,
   "metadata": {},
   "outputs": [],
   "source": [
    "nome = \"Ana Maria\"\n",
    "idade = 17\n",
    "print(f\"O nome da aluna é {nome} e sua idade é {idade} anos.\")\n"
   ]
  },
  {
   "cell_type": "markdown",
   "metadata": {},
   "source": [
    "Tipo de variável\tPalavra-chave\n",
    "string\t%s\n",
    "inteiro\t%d\n",
    "float\t%f\n",
    "caractere\t%c\n",
    "\n",
    "\n"
   ]
  },
  {
   "cell_type": "code",
   "execution_count": null,
   "metadata": {},
   "outputs": [],
   "source": [
    "nome_aluno = 'Fabricio Daniel'\n",
    "\n",
    "print('Nome do aluno: %s' %(nome_aluno))\n"
   ]
  },
  {
   "cell_type": "code",
   "execution_count": null,
   "metadata": {},
   "outputs": [],
   "source": [
    "nome_aluno = 'Fabricio Daniel'\n",
    "idade_aluno = 15\n",
    "media_aluno = 8.45\n",
    "\n",
    "print('Nome do aluno é %s, ele tem %d anos e sua média é %f.' %(nome_aluno, idade_aluno, media_aluno))\n"
   ]
  },
  {
   "cell_type": "markdown",
   "metadata": {},
   "source": [
    "## quebra de linha "
   ]
  },
  {
   "cell_type": "code",
   "execution_count": null,
   "metadata": {},
   "outputs": [],
   "source": [
    "print(\"Estudar é um esforço constante,\\nÉ como cultivar uma planta,\\nPrecisamos de dedicação e paciência,\\nPara ver o fruto amadurecer.\")\n"
   ]
  },
  {
   "cell_type": "markdown",
   "metadata": {},
   "source": [
    "Coleta e amostragem de dados\n",
    "Crie um programa que solicite à pessoa usuária digitar seu nome, e imprima “Olá, [nome]!”.\n",
    "Crie um programa que solicite à pessoa usuária digitar seu nome e idade, e imprima “Olá, [nome], você tem [idade] anos.”.\n",
    "Crie um programa que solicite à pessoa usuária digitar seu nome, idade e altura em metros, e imprima “Olá, [nome], você tem [idade] anos e mede [altura] metros!”."
   ]
  },
  {
   "cell_type": "code",
   "execution_count": null,
   "metadata": {},
   "outputs": [],
   "source": [
    "def coletaDadosPessoais():\n",
    "   nome = input('Escreva seu nome: ') \n",
    "   idade = int(input('Sua idade: ')) \n",
    "   altura = float(input('Sua altura (em metros): ')).__round__(2)\n",
    "\n",
    "   return print(\"Olá, %s, você tem %d anos e %f metros de altura.\" %(nome, idade, altura))\n",
    "\n",
    "\n",
    "\n",
    "## chamando função\n",
    "\n",
    "teste1 = coletaDadosPessoais()"
   ]
  },
  {
   "cell_type": "markdown",
   "metadata": {},
   "source": [
    "Crie um programa que solicite dois valores numéricos à pessoa usuária e imprima a soma dos dois valores.\n",
    "Crie um programa que solicite três valores numéricos à pessoa usuária e imprima a soma dos três valores.\n",
    "Crie um programa que solicite dois valores numéricos à pessoa usuária e imprima a subtração do primeiro pelo o segundo valor.\n",
    "Crie um programa que solicite dois valores numéricos à pessoa usuária e imprima a multiplicação dos dois valores.\n",
    "Crie um programa que solicite dois valores numéricos, um numerador e um denominador, e realize a divisão entre os dois valores. Deixe claro que o valor do denominador não pode ser 0.\n",
    "Crie um programa que solicite dois valores numéricos, um operador e uma potência, e realize a exponenciação entre esses dois valores.\n",
    "Crie um programa que solicite dois valores numéricos, um numerador e um denominador e realize a divisão inteira entre os dois valores. Deixe claro que o valor do denominador não pode ser 0.\n",
    "Crie um programa que solicite dois valores numéricos, um numerador e um denominador, e retorne o resto da divisão entre os dois valores. Deixe claro que o valor do denominador não pode ser 0.\n",
    "Crie um código que solicita 3 notas de um estudante e imprima a média das notas.\n",
    "Crie um código que calcule e imprima a média ponderada dos números 5, 12, 20 e 15 com pesos respectivamente iguais a 1, 2, 3 e 4."
   ]
  },
  {
   "cell_type": "code",
   "execution_count": null,
   "metadata": {},
   "outputs": [],
   "source": [
    "##Crie um programa que solicite dois valores numéricos à pessoa usuária e imprima a soma dos dois valores.\n",
    "\n",
    "def solicitaNumeros():\n",
    "   num1 = int(input('Digite o primeiro número: ')) \n",
    "   num2 = int(input('Digite o segundo númreo: ')) \n",
    "   soma = (num1 + num2)\n",
    "\n",
    "   return print(\"A soma dos dois números deu %i. \" %(soma))\n",
    "\n",
    "## chamando função\n",
    "\n",
    "teste1 = solicitaNumeros()"
   ]
  },
  {
   "cell_type": "code",
   "execution_count": null,
   "metadata": {},
   "outputs": [],
   "source": [
    "##Crie um programa que solicite três valores numéricos à pessoa usuária e imprima a soma dos três valores.\n",
    "\n",
    "def solicitaNumerosv2():\n",
    "   num1 = int(input('Digite o primeiro número: ')) \n",
    "   num2 = int(input('Digite o segundo número: ')) \n",
    "   num3 = int(input('Digite o terceiro número: ')) \n",
    "   soma = (num1 + num2 + num3)\n",
    "\n",
    "   return print(\"A soma dos dois números deu %i. \" %(soma))\n",
    "\n",
    "## chamando função\n",
    "\n",
    "teste1 = solicitaNumerosv2()"
   ]
  },
  {
   "cell_type": "code",
   "execution_count": null,
   "metadata": {},
   "outputs": [],
   "source": [
    "##Crie um programa que solicite dois valores numéricos à pessoa usuária e imprima a subtração do primeiro pelo o segundo valor.\n",
    "\n",
    "def solicitaNumerosv3():\n",
    "   num1 = int(input('Digite o primeiro número: ')) \n",
    "   num2 = int(input('Digite o segundo número: ')) \n",
    "   sub = (num1 - num2)\n",
    "\n",
    "   return print(\"A diferença entre os dois números é %i. \" %(sub))\n",
    "\n",
    "## chamando função\n",
    "\n",
    "teste1 = solicitaNumerosv3()"
   ]
  },
  {
   "cell_type": "code",
   "execution_count": null,
   "metadata": {},
   "outputs": [],
   "source": [
    "##Crie um programa que solicite dois valores numéricos à pessoa usuária e imprima a multiplicação dos dois valores.\n",
    "\n",
    "def solicitaNumerosv4():\n",
    "   num1 = int(input('Digite o primeiro número: ')) \n",
    "   num2 = int(input('Digite o segundo número: ')) \n",
    "   mult = (num1 * num2)\n",
    "\n",
    "   return print(\"O produto da multiplicação dos dois números é %i. \" %(mult))\n",
    "\n",
    "## chamando função\n",
    "\n",
    "teste1 = solicitaNumerosv4()"
   ]
  },
  {
   "cell_type": "code",
   "execution_count": null,
   "metadata": {},
   "outputs": [],
   "source": [
    "## Crie um programa que solicite dois valores numéricos, um numerador e um denominador, e realize a divisão entre os dois valores. Deixe claro que o valor do denominador não pode ser 0.\n",
    "\n",
    "\n",
    "while True:\n",
    "    try:\n",
    "        numerador = float(input(\"Digite o numerador: \"))\n",
    "        denominador = float(input(\"Digite o denominador: \"))\n",
    "        \n",
    "        # Verifica se o denominador é zero\n",
    "        if denominador == 0:\n",
    "            print(\"Erro: O denominador não pode ser zero. Tente novamente.\")\n",
    "        else:\n",
    "            resultado = numerador / denominador\n",
    "            print(f\"Resultado da divisão: {resultado}\")\n",
    "            break  # Sai do loop se a divisão for bem-sucedida\n",
    "    except ValueError:\n",
    "        print(\"Erro: Certifique-se de inserir números válidos. Tente novamente.\")\n",
    "    except ZeroDivisionError:\n",
    "        print(\"Erro: O denominador não pode ser zero. Tente novamente.\")\n",
    "\n",
    "   \n",
    "  \n"
   ]
  },
  {
   "cell_type": "code",
   "execution_count": null,
   "metadata": {},
   "outputs": [],
   "source": [
    "## Crie um programa que solicite dois valores numéricos, um operador e uma potência, e realize a exponenciação entre esses dois valores.\n",
    "\n",
    "\n",
    "def solicitaNumeroPotencia():\n",
    "\n",
    "    import numpy as np\n",
    "\n",
    "    operador = int(input(\"Digite um número: \"))\n",
    "    potencia = int(input(\"Digite uma potência: \"))\n",
    "\n",
    "    resultado = np.power(operador, potencia)\n",
    "\n",
    "    print(\"O resultado de {0} elevado a {1} é {2}.\".format(operador, potencia, resultado))\n",
    "    \n",
    "\n",
    "solicitaNumeroPotencia()\n",
    "  \n"
   ]
  },
  {
   "cell_type": "code",
   "execution_count": null,
   "metadata": {},
   "outputs": [],
   "source": [
    "## Crie um programa que solicite dois valores numéricos, um numerador e um denominador e realize a divisão inteira entre os dois valores. Deixe claro que o valor do denominador não pode ser 0.\n",
    "\n",
    "while True:\n",
    "    try:\n",
    "        numerador = int(input(\"Digite o numerador: \"))\n",
    "        denominador = int(input(\"Digite o denominador: \"))\n",
    "        \n",
    "        # Verifica se o denominador é zero\n",
    "        if denominador == 0:\n",
    "            print(\"Erro: O denominador não pode ser zero. Tente novamente.\")\n",
    "        else:\n",
    "            resultado = numerador // denominador\n",
    "            print(f\"Resultado da divisão: {resultado}\")\n",
    "            break  # Sai do loop se a divisão for bem-sucedida\n",
    "    except ValueError:\n",
    "        print(\"Erro: Certifique-se de inserir números válidos. Tente novamente.\")\n",
    "    except ZeroDivisionError:\n",
    "        print(\"Erro: O denominador não pode ser zero. Tente novamente.\")\n"
   ]
  },
  {
   "cell_type": "code",
   "execution_count": null,
   "metadata": {},
   "outputs": [],
   "source": [
    "## Crie um programa que solicite dois valores numéricos, um numerador e um denominador, e retorne o resto da divisão entre os dois valores. Deixe claro que o valor do denominador não pode ser 0.\n",
    "\n",
    "while True:\n",
    "    try:\n",
    "        numerador = int(input(\"Digite o numerador: \"))\n",
    "        denominador = int(input(\"Digite o denominador: \"))\n",
    "        \n",
    "        # Verifica se o denominador é zero\n",
    "        if denominador == 0:\n",
    "            print(\"Erro: O denominador não pode ser zero. Tente novamente.\")\n",
    "        else:\n",
    "            resultado = numerador % denominador\n",
    "            print(f\"Resultado da divisão: {resultado}\")\n",
    "            break  # Sai do loop se a divisão for bem-sucedida\n",
    "    except ValueError:\n",
    "        print(\"Erro: Certifique-se de inserir números válidos. Tente novamente.\")\n",
    "    except ZeroDivisionError:\n",
    "        print(\"Erro: O denominador não pode ser zero. Tente novamente.\")"
   ]
  },
  {
   "cell_type": "code",
   "execution_count": null,
   "metadata": {},
   "outputs": [],
   "source": [
    "## Crie um código que solicita 3 notas de um estudante e imprima a média das notas.\n",
    "def calculaMedia():\n",
    "\n",
    "    import numpy as np\n",
    "\n",
    "    nota1 = int(input(\"Digite a 1ª nota: \"))\n",
    "    nota2 = int(input(\"Digite a 2ª nota: \"))\n",
    "    nota3 = int(input(\"Digite a 3ª nota: \"))\n",
    "\n",
    "    arrayNotas = np.array([nota1, nota2, nota2])\n",
    "\n",
    "    media = np.mean(arrayNotas)\n",
    "\n",
    "    print(f\"A média das 3 notas do aluno é: {media}\")\n",
    "\n",
    "calculaMedia()\n",
    "\n",
    "\n"
   ]
  },
  {
   "cell_type": "code",
   "execution_count": null,
   "metadata": {},
   "outputs": [],
   "source": [
    "## Crie um código que calcule e imprima a média ponderada dos números 5, 12, 20 e 15 com pesos respectivamente iguais a 1, 2, 3 e 4.\n",
    "\n",
    "def calculaMediaPond():\n",
    "\n",
    "    import numpy as np\n",
    "\n",
    "    arrayNum = np.array([5, 12, 20, 15])\n",
    "\n",
    "    mediaPond = np.average(arrayNum, weights= [1, 2, 3, 4])\n",
    "\n",
    "    print(f\"A média ponderada dos números 5, 12, 20, 15: {mediaPond}\")\n",
    "\n",
    "calculaMediaPond()"
   ]
  },
  {
   "cell_type": "code",
   "execution_count": null,
   "metadata": {},
   "outputs": [],
   "source": [
    "## Crie uma variável chamada “frase” e atribua a ela uma string de sua escolha. Em seguida, imprima a frase na tela.\n",
    "\n",
    "frase = 'n'"
   ]
  },
  {
   "cell_type": "code",
   "execution_count": null,
   "metadata": {},
   "outputs": [],
   "source": [
    "## Crie um código que solicite uma frase e depois imprima a frase na tela.\n",
    "\n",
    "frase = input(\"Digite uma frase: \")\n",
    "print(frase)"
   ]
  },
  {
   "cell_type": "code",
   "execution_count": null,
   "metadata": {},
   "outputs": [],
   "source": [
    "## Crie um código que solicite uma frase à pessoa usuária e imprima a mesma frase digitada mas com todas as letras maiúsculas.\n",
    "\n",
    "frase = input(\"Digite uma frase: \")\n",
    "upperIt = frase.upper()\n",
    "print(upperIt)"
   ]
  },
  {
   "cell_type": "code",
   "execution_count": null,
   "metadata": {},
   "outputs": [],
   "source": [
    "## Crie um código que solicite uma frase à pessoa usuária e imprima a mesma frase digitada mas com todas as letras minúsculas.\n",
    "\n",
    "frase = input(\"Digite uma frase: \")\n",
    "lowerIt = frase.lower()\n",
    "print(lowerIt)"
   ]
  },
  {
   "cell_type": "code",
   "execution_count": null,
   "metadata": {},
   "outputs": [],
   "source": [
    "## Crie uma variável chamada “frase” e atribua a ela uma string de sua escolha. Em seguida, imprima a frase sem espaços em branco no início e no fim.\n",
    "\n",
    "frase = input(\"Digite uma frase: \")\n",
    "frase_sem_espacos = \"\".join(frase.split())\n",
    "print(frase_sem_espacos)"
   ]
  },
  {
   "cell_type": "code",
   "execution_count": null,
   "metadata": {},
   "outputs": [],
   "source": [
    "## Crie um código que solicite uma frase à pessoa usuária e imprima a mesma frase sem espaços em branco no início e no fim.\n",
    "\n",
    "frase = input(\"Digite uma frase: \")\n",
    "frase_sem_espacos = \"\".join(frase.split())\n",
    "print(frase_sem_espacos)"
   ]
  },
  {
   "cell_type": "code",
   "execution_count": null,
   "metadata": {},
   "outputs": [],
   "source": [
    "## Crie um código que solicite uma frase à pessoa usuária e imprima a mesma frase com todas as vogais “e” trocadas pela letra “f”.\n",
    "\n",
    "def verifica_substring():   \n",
    "\n",
    "    frase = input(\"Digite uma frase: \")\n",
    "\n",
    "    substring_procurada = \"e\"\n",
    "\n",
    "    if frase.find(\"e\"):\n",
    "        frase_new = frase.replace(\"e\", \"f\")\n",
    "        print(frase_new)\n",
    "    else:\n",
    "        print(frase)\n",
    "\n",
    "verifica_substring()\n",
    "\n",
    "\n"
   ]
  },
  {
   "cell_type": "code",
   "execution_count": null,
   "metadata": {},
   "outputs": [],
   "source": [
    "## Crie um código que solicite uma frase à pessoa usuária e imprima a mesma frase com todas as vogais “a” trocadas pela caractere “@”.\n",
    "\n",
    "def verifica_substring():   \n",
    "\n",
    "    frase = input(\"Digite uma frase: \")\n",
    "\n",
    "    substring_procurada = \"a\"\n",
    "\n",
    "    if frase.find(\"a\"):\n",
    "        frase_new = frase.replace(\"a\", \"@\")\n",
    "        print(frase_new)\n",
    "    else:\n",
    "        print(frase)\n",
    "\n",
    "verifica_substring()"
   ]
  },
  {
   "cell_type": "code",
   "execution_count": null,
   "metadata": {},
   "outputs": [],
   "source": [
    "## Crie um código que solicite uma frase à pessoa usuária e imprima a mesma frase com todas as consoantes “s” trocadas pelo caractere “$”.\n",
    "\n",
    "def verifica_substring():   \n",
    "\n",
    "    frase = input(\"Digite uma frase: \")\n",
    "\n",
    "    substring_procurada = \"a\"\n",
    "\n",
    "    if frase.find(\"a\"):\n",
    "        frase_new = frase.replace(\"a\", \"@\")\n",
    "        print(frase_new)\n",
    "    else:\n",
    "        print(frase)\n",
    "\n",
    "verifica_substring()"
   ]
  },
  {
   "cell_type": "code",
   "execution_count": null,
   "metadata": {},
   "outputs": [],
   "source": [
    "## Estruturas condicionais"
   ]
  },
  {
   "cell_type": "code",
   "execution_count": null,
   "metadata": {},
   "outputs": [],
   "source": [
    "idade_maria = int(input('Digite a idade da Maria: '))\n",
    "idade_beatriz = int(input('Digite a idade da Beatriz: '))\n",
    "\n",
    "if idade_maria < idade_beatriz:\n",
    "  print('Maria é mais nova que Beatriz.')\n",
    "else:\n",
    "  print('Beatriz é mais nova que Maria.')\n"
   ]
  },
  {
   "cell_type": "code",
   "execution_count": null,
   "metadata": {},
   "outputs": [],
   "source": [
    "media = float(input('Digite a média: '))\n",
    "\n",
    "if media >= 6.0:\n",
    "  print('Aprovado(a)')\n",
    "else:\n",
    "  print('Reprovado(a)')\n"
   ]
  },
  {
   "cell_type": "code",
   "execution_count": null,
   "metadata": {},
   "outputs": [],
   "source": [
    "## elif\n",
    "\n",
    "if media >= 6.0:\n",
    "  print('Aprovado(a)')\n",
    "elif 6.0 > media >= 4.0:\n",
    "  print('Recuperação')\n",
    "if media < 4.0:\n",
    "  print('Reprovado(a)')\n"
   ]
  },
  {
   "cell_type": "code",
   "execution_count": null,
   "metadata": {},
   "outputs": [],
   "source": [
    "##1) Escreva um programa que peça à pessoa usuária para fornecer dois números e exibir o número maior.\n",
    "\n",
    "num1 = int(input('Digite o primeiro número: '))\n",
    "num2 = int(input('Digite o segundo número: '))\n",
    "\n",
    "\n",
    "if num1 > num2:\n",
    "  print(num1)\n",
    "else:\n",
    "  print(num2)\n"
   ]
  },
  {
   "cell_type": "code",
   "execution_count": null,
   "metadata": {},
   "outputs": [],
   "source": [
    "## 2) Escreva um programa que solicite o percentual de crescimento de produção de uma empresa e \n",
    "## informe se houve um crescimento (porcentagem positiva) ou decrescimento (porcentagem negativa).\n",
    "\n",
    "perc = float(input('Digite o percentual de crescimento da empresa: '))\n",
    "\n",
    "\n",
    "if perc > 0:\n",
    "  print(f'Houve um crescimento de {perc}%.')\n",
    "else:\n",
    "  print(f'Houve um decrescimento de {perc}%.')"
   ]
  },
  {
   "cell_type": "code",
   "execution_count": null,
   "metadata": {},
   "outputs": [],
   "source": [
    "## 3) Escreva um programa que determine se uma letra fornecida pela pessoa usuária é uma vogal ou consoante.\n",
    "\n",
    "letra = input('Digite uma letra: ')\n",
    "\n",
    "vogal = ['a','e', 'i', 'o', 'u']\n",
    "\n",
    "if letra in vogal:\n",
    "    print(f'A letra {letra.upper()} é uma vogal.')\n",
    "else:\n",
    "    print(f'A letra {letra.upper()} é uma consoante.')\n"
   ]
  },
  {
   "cell_type": "code",
   "execution_count": null,
   "metadata": {},
   "outputs": [],
   "source": [
    "## 4) Escreva um programa que leia valores médios de preços de um modelo de \n",
    "## carro por 3 anos consecutivos e exiba o valor mais alto e mais baixo entre esses três anos.\n",
    "\n",
    "precoAno1 = 49000\n",
    "precoAno2 = 53500\n",
    "precoAno3 = 42000\n",
    "\n",
    "if precoAno1 > precoAno2 and precoAno1 > precoAno3:\n",
    "    if precoAno2 > precoAno3:\n",
    "        print(f'O valor mais alto é: {precoAno1} e o valor mais baixo é: {precoAno3}.')\n",
    "    else:\n",
    "        print(f'O valor mais alto é: {precoAno1} e o valor mais baixo é: {precoAno2}.')\n",
    "elif precoAno2 > precoAno1 and precoAno2 > precoAno3:\n",
    "    if precoAno1 > precoAno3:\n",
    "       print(f'O valor mais alto é: {precoAno2} e o valor mais baixo é: {precoAno3}.') \n",
    "    else:\n",
    "        print(f'O valor mais alto é: {precoAno2} e o valor mais baixo é: {precoAno1}.')\n",
    "elif precoAno3 > precoAno1 and precoAno3 > precoAno2:\n",
    "    if precoAno1 > precoAno2:\n",
    "        print(f'O valor mais alto é: {precoAno3} e o valor mais baixo é: {precoAno2}.')\n",
    "    else:\n",
    "        print(f'O valor mais alto é: {precoAno3} e o valor mais baixo é: {precoAno1}.')"
   ]
  },
  {
   "cell_type": "code",
   "execution_count": null,
   "metadata": {},
   "outputs": [],
   "source": [
    "## 5) Escreva um programa que pergunte sobre o preço de três produtos e indique qual é o produto mais barato para comprar.\n",
    "\n",
    "prod1 = float(input('Diga o preço do primeiro produto: '))\n",
    "prod2 = float(input('Diga o preço do primeiro produto: '))\n",
    "prod3 = float(input('Diga o preço do primeiro produto: '))\n",
    "\n",
    "prices = [prod1, prod2, prod3]\n",
    "\n",
    "# Inicialize as variáveis para armazenar o maior e o menor número\n",
    "maior_numero = float('-inf')  # Inicializado com o menor valor possível\n",
    "menor_numero = float('inf')   # Inicializado com o maior valor possível\n",
    "\n",
    "# Iterar pela lista para encontrar o maior e o menor número\n",
    "for numero in prices:\n",
    "    if numero > maior_numero:\n",
    "        maior_numero = numero\n",
    "    if numero < menor_numero:\n",
    "        menor_numero = numero\n",
    "\n",
    "# Imprimir os resultados\n",
    "print(\"Maior número:\", maior_numero)\n",
    "print(\"Menor número:\", menor_numero)\n"
   ]
  },
  {
   "cell_type": "code",
   "execution_count": null,
   "metadata": {},
   "outputs": [],
   "source": [
    "## Escreva um programa que leia três números e os exiba em ordem decrescente.\n",
    "\n",
    "num1 = 12\n",
    "num2 = 75\n",
    "num3 = 44\n",
    "\n",
    "listNum = [num1, num2, num3]\n",
    "\n",
    "listNum.sort(reverse=True)\n",
    "\n",
    "print(\"Lista ordenada de forma decrescente:\", listNum)\n"
   ]
  },
  {
   "cell_type": "code",
   "execution_count": null,
   "metadata": {},
   "outputs": [],
   "source": [
    "## 7) Escreva um programa que pergunte em qual turno a pessoa usuária estuda (\"manhã\", \"tarde\" ou \"noite\") e \n",
    "## exiba a mensagem \"Bom Dia!\", \"Boa Tarde!\", \"Boa Noite!\", ou \"Valor Inválido!\", conforme o caso.\n",
    "\n",
    "question = input('Qual período você estuda?: ').lower()\n",
    "\n",
    "if question == \"manhã\":\n",
    "    print(\"Bom dia!\")\n",
    "elif question == \"tarde\":\n",
    "    print(\"Boa tarde!\")\n",
    "elif question == \"noite\":\n",
    "    print(\"Boa noite!\")\n",
    "else:\n",
    "    print(\"Valor Inválido!\")"
   ]
  },
  {
   "cell_type": "code",
   "execution_count": null,
   "metadata": {},
   "outputs": [],
   "source": [
    "## Escreva um programa que peça um número inteiro à pessoa usuária e determine se ele é par ou ímpar. \n",
    "## Dica: Você pode utilizar o operador módulo %.\n",
    "\n",
    "question2 = input('Digite um número inteiro: ')\n",
    "\n",
    "number = int(question2)\n",
    "\n",
    "if number % 2 != 0:\n",
    "    print(\"Ímpar\")\n",
    "else:\n",
    "    print(\"Par\")"
   ]
  },
  {
   "cell_type": "code",
   "execution_count": null,
   "metadata": {},
   "outputs": [],
   "source": [
    "## Escreva um programa que peça um número à pessoa usuária e informe se ele é inteiro ou decimal.\n",
    "\n",
    "question2 = input('Digite um número: ')\n",
    "\n",
    "if question2.find('.') is True:\n",
    "    print(\"O número é float\")\n",
    "else:\n",
    "    print(\"O número é int\")"
   ]
  },
  {
   "cell_type": "code",
   "execution_count": null,
   "metadata": {},
   "outputs": [],
   "source": [
    "#10) Um programa deve ser escrito para ler dois números e, em seguida, perguntar à pessoa usuária qual operação ele deseja realizar. \n",
    "##O resultado da operação deve incluir informações sobre o número - se é par ou ímpar, positivo ou negativo e inteiro ou decimal.\n",
    "\n",
    "number1 = input('Digite o primeiro número:')\n",
    "\n",
    "number2 = input('Digite o segundo número:')\n",
    "\n",
    "question = input('Qual operação será realizada?').lower()\n",
    "\n",
    "number1cast = int(number1)\n",
    "number2cast = int(number2)\n",
    "\n",
    "if question == \"soma\":\n",
    "    sum = number1cast + number2cast\n",
    "##check par impar\n",
    "    \n",
    "    if sum % 2 == 0:\n",
    "        parImpar = \"par\"\n",
    "    else:\n",
    "        parImpar = \"ímpar\" \n",
    "\n",
    "##check positivo negativo\n",
    "\n",
    "    if sum > 0:\n",
    "        posNegatv = \"positivo\"\n",
    "    else:\n",
    "        posNegatv = \"negativo\" \n",
    "\n",
    "##check positivo negativo\n",
    "\n",
    "    if type(sum) is int:\n",
    "        intFloat = \"inteiro\"\n",
    "    elif type(sum) is float:\n",
    "        intFloat = \"float\" \n",
    "\n",
    "##print final \n",
    "        \n",
    "    print(f'O número {sum} é {parImpar}, além de ser {posNegatv} e {intFloat}.')\n",
    "\n",
    "elif question == \"subtração\":\n",
    "    sub = number1cast - number2cast\n",
    "\n",
    "##check par impar\n",
    "    \n",
    "    if sub % 2 == 0:\n",
    "        parImpar = \"par\"\n",
    "    else:\n",
    "        parImpar = \"ímpar\" \n",
    "\n",
    "##check positivo negativo\n",
    "\n",
    "    if sub > 0:\n",
    "        posNegatv = \"positivo\"\n",
    "    else:\n",
    "        posNegatv = \"negativo\" \n",
    "\n",
    "##check positivo negativo\n",
    "\n",
    "    if type(sub) is int:\n",
    "        intFloat = \"inteiro\"\n",
    "    elif type(sub) is float:\n",
    "        intFloat = \"float\" \n",
    "\n",
    "##print final \n",
    "        \n",
    "    print(f'O número {sub} é {parImpar}, além de ser {posNegatv} e {intFloat}.')\n",
    "\n",
    "elif question == \"multiplicação\":\n",
    "    mult = number1cast * number2cast\n",
    "    newNum = print(mult)\n",
    "\n",
    "##check par impar\n",
    "    \n",
    "    if mult % 2 == 0:\n",
    "        parImpar = \"par\"\n",
    "    else:\n",
    "        parImpar = \"ímpar\" \n",
    "\n",
    "##check positivo negativo\n",
    "\n",
    "    if mult > 0:\n",
    "        posNegatv = \"positivo\"\n",
    "    else:\n",
    "        posNegatv = \"negativo\" \n",
    "\n",
    "##check positivo negativo\n",
    "\n",
    "    if type(mult) is int:\n",
    "        intFloat = \"inteiro\"\n",
    "    elif type(mult) is float:\n",
    "        intFloat = \"float\" \n",
    "\n",
    "##print final \n",
    "        \n",
    "    print(f'O número {mult} é {parImpar}, além de ser {posNegatv} e {intFloat}.')\n",
    "\n",
    "elif question == \"divisão\":\n",
    "    div = number1cast / number2cast\n",
    "\n",
    "##check par impar\n",
    "    \n",
    "    if div % 2 == 0:\n",
    "        parImpar = \"par\"\n",
    "    else:\n",
    "        parImpar = \"ímpar\" \n",
    "\n",
    "##check positivo negativo\n",
    "\n",
    "    if div > 0:\n",
    "        posNegatv = \"positivo\"\n",
    "    else:\n",
    "        posNegatv = \"negativo\" \n",
    "\n",
    "##check positivo negativo\n",
    "\n",
    "    if type(div) is int:\n",
    "        intFloat = \"inteiro\"\n",
    "    elif type(div) is float:\n",
    "        intFloat = \"float\" \n",
    "\n",
    "##print final \n",
    "        \n",
    "    print(f'O número {div} é {parImpar}, além de ser {posNegatv} e {intFloat}.')\n",
    " \n"
   ]
  },
  {
   "cell_type": "code",
   "execution_count": null,
   "metadata": {},
   "outputs": [],
   "source": [
    "''' \n",
    "Escreva um programa que peça à pessoa usuária três números que representam os lados de um triângulo. \n",
    "O programa deve informar se os valores podem ser utilizados para formar um triângulo e, caso afirmativo, se ele é equilátero, isósceles ou escaleno. Tenha em mente algumas dicas:\n",
    "\n",
    "Três lados formam um triângulo quando a soma de quaisquer dois lados for maior que o terceiro;\n",
    "Triângulo Equilátero: três lados iguais;\n",
    "Triângulo Isósceles: quaisquer dois lados iguais;\n",
    "Triângulo Escaleno: três lados diferentes.\n",
    "'''\n",
    "\n",
    "def pode_formar_triangulo(a, b, c):\n",
    "    return (a + b > c) and (a + c > b) and (b + c > a)\n",
    "\n",
    "# Exemplo de uso\n",
    "lado1 = float(input(\"Digite o comprimento do primeiro lado: \"))\n",
    "lado2 = float(input(\"Digite o comprimento do segundo lado: \"))\n",
    "lado3 = float(input(\"Digite o comprimento do terceiro lado: \"))\n",
    "\n",
    "if pode_formar_triangulo(lado1, lado2, lado3):\n",
    "    print(\"Os comprimentos dados podem formar um triângulo.\")\n",
    "    if (lado1 == lado2 == lado3):\n",
    "        print(\"O triângulo é equilatero\")\n",
    "    elif (lado1 == lado2) or (lado2 == lado3) or (lado1 == lado3):\n",
    "        print(\"O triângulo é isósceles\")\n",
    "    else:\n",
    "        print(\"O triângulo é escaleno\") \n",
    "else:\n",
    "    print(\"Os comprimentos dados não podem formar um triângulo.\")\n",
    "\n",
    "\n"
   ]
  },
  {
   "cell_type": "code",
   "execution_count": null,
   "metadata": {},
   "outputs": [],
   "source": [
    "'''12) Um estabelecimento está vendendo combustíveis com descontos variados. \n",
    "Para o etanol, se a quantidade comprada for até 15 litros, o desconto será de 2% por litro. \n",
    "Caso contrário, será de 4% por litro. \n",
    "Para o diesel, se a quantidade comprada for até 15 litros, o desconto será de 3% por litro. \n",
    "Caso contrário, será de 5% por litro. \n",
    "O preço do litro de diesel é R$ 2,00 e o preço do litro de etanol é R$ 1,70.\n",
    "Escreva um programa que leia a quantidade de litros vendidos e o tipo de combustível (E para etanol e D para diesel) e calcule o valor a ser pago pelo cliente. Tenha em mente algumas dicas:\n",
    "\n",
    "O do valor do desconto será a multiplicação entre preço do litro, quantidade de litros e o valor do desconto.\n",
    "O valor a ser pago por um cliente será o resultado da multiplicação do preço do litro pela quantidade de litros menos o valor de desconto resultante do cálculo.\n",
    "'''\n",
    "\n",
    "litros = input('Digite a quantide de litros a ser comprada do combustível:')\n",
    "litros = int(litros)\n",
    "\n",
    "litroEtanol = 1.70\n",
    "litroDiesel = 2.00\n",
    "\n",
    "fuelType = input('Digite o tipo de combustível:')\n",
    "fuelTypeCap = fuelType.capitalize()\n",
    "\n",
    "if fuelTypeCap == \"E\": \n",
    "    if litros <= 15:\n",
    "        preco = litros * (litroEtanol - (litroEtanol * 0.02))\n",
    "        print(preco)\n",
    "    else:\n",
    "        preco = litros * (litroEtanol - (litroEtanol * 0.04))\n",
    "        print(preco)\n",
    "elif fuelTypeCap == \"D\":\n",
    "    if litros <= 15:\n",
    "        preco = litros * (litroDiesel - (litroDiesel * 0.03))\n",
    "        print(preco)\n",
    "    else:\n",
    "        preco = litros * (litroDiesel - (litroDiesel * 0.05))\n",
    "        print(preco)"
   ]
  },
  {
   "cell_type": "code",
   "execution_count": null,
   "metadata": {},
   "outputs": [],
   "source": [
    "'''Em uma empresa de venda de imóveis você precisa criar um código que analise os dados de vendas anuais para ajudar a diretoria na tomada de decisão. \n",
    "O código precisa coletar os dados de quantidade de venda durante os anos de 2022 e 2023 e fazer um cálculo de variação percentual. \n",
    "A partir do valor da variação, deve ser enviada às seguintes sugestões:\n",
    "\n",
    "Para variação acima de 20%: bonificação para o time de vendas.\n",
    "Para variação entre 2% e 20%: pequena bonificação para time de vendas.\n",
    "Para variação entre 2% e -10%: planejamento de políticas de incentivo às vendas.\n",
    "Para bonificações abaixo de -10%: corte de gastos.\n",
    "'''\n",
    "\n",
    "sales2022 = input('Digite a quantidade de vendas no ano de 2022:')\n",
    "sales2022 = int(sales2022)\n",
    "\n",
    "sales2023 = input('Digite a quantidade de vendas no ano de 2023:')\n",
    "sales2023 = int(sales2023)\n",
    "\n",
    "variation = (sales2023 - sales2022)\n",
    "percVariation = ((variation / sales2022) * 100)\n",
    "print(f'A variação foi de: {percVariation}%')\n",
    "\n",
    "if percVariation > 20.0:\n",
    "    print('bonificação para o time de vendas')\n",
    "elif percVariation >= 2.0 and percVariation <= 20.0:\n",
    "    print('pequena bonificação para time de vendas')\n",
    "elif percVariation < 2.0 and percVariation >= -10.0:\n",
    "    print('planejamento de políticas de incentivo às vendas')\n",
    "else:\n",
    "    print('corte de gastos') "
   ]
  },
  {
   "cell_type": "code",
   "execution_count": null,
   "metadata": {},
   "outputs": [],
   "source": [
    "contador = 1\n",
    "while contador <= 10:\n",
    "  print(contador)\n",
    "  contador = contador+1"
   ]
  },
  {
   "cell_type": "code",
   "execution_count": null,
   "metadata": {},
   "outputs": [],
   "source": [
    "for contador in range(1,20, 2):\n",
    "  print(contador)"
   ]
  },
  {
   "cell_type": "code",
   "execution_count": null,
   "metadata": {},
   "outputs": [],
   "source": [
    "'''1) Escreva um programa que peça dois números inteiros e imprima todos os números inteiros entre eles. '''\n",
    "\n",
    "number1 = input('Digite o primeiro número:')\n",
    "number1 = (int(number1) + 1)\n",
    "\n",
    "number2 = input('Digite o segundo número:')\n",
    "number2 = int(number2)\n",
    "\n",
    "for i in range(number1,number2, 1):\n",
    "  print(i)\n"
   ]
  },
  {
   "cell_type": "code",
   "execution_count": null,
   "metadata": {},
   "outputs": [],
   "source": [
    "'''\n",
    "2) Escreva um programa para calcular quantos dias levará para a colônia de uma bactéria A ultrapassar ou igualar a colônia de uma bactéria B, com base nas taxas de crescimento de 3% e 1,5% respectivamente. \n",
    "Considere que a colônia A inicia com 4 elementos e a B com 10.\n",
    "'''\n",
    "A = 4\n",
    "B = 10\n",
    "\n",
    "dias = 1\n",
    "\n",
    "while B > A:\n",
    "  A = (A * 0.03) + A\n",
    "  B = (B * 0.015) + B\n",
    "  dias = dias+1\n",
    "\n",
    "print(f'Levarão {dias} dias para a colônia A ultrapassar a colônia B, tendo que a colônia A possuirá {A:.1f} elementos e a colônia B possuirá {B:.1f} elementos.') "
   ]
  },
  {
   "cell_type": "code",
   "execution_count": null,
   "metadata": {},
   "outputs": [],
   "source": [
    "'''\n",
    " Para tratar uma quantidade de 15 dados de avaliações de pessoas usuárias de um serviço da empresa, precisamos verificar se as notas são válidas. \n",
    " Então, escreva um programa que vai receber a nota de 0 a 5 de todos os dados e verificar se é um valor válido. \n",
    " Caso seja inserido uma nota acima de 5 ou abaixo de 0, repita até que a pessoa usuária insira um valor válido.\n",
    "'''\n",
    "\n",
    "qtde_notas = 0\n",
    "notas = []\n",
    "\n",
    "while qtde_notas < 15:\n",
    "  nota = input('Digite sua nota:')\n",
    "  nota = int(nota)\n",
    "  \n",
    "  if nota >= 0 and nota <= 5:\n",
    "    qtde_notas = qtde_notas+1\n",
    "    notas.append(nota)\n",
    "  else:\n",
    "    print(\"digite um valor válido.\")\n",
    "\n",
    "\n",
    "print(qtde_notas)\n",
    "print(notas)"
   ]
  },
  {
   "cell_type": "code",
   "execution_count": null,
   "metadata": {},
   "outputs": [],
   "source": [
    "'''\n",
    "4) Desenvolva um programa que leia um conjunto indeterminado de temperaturas em Celsius e informe a média delas. A leitura deve ser encerrada ao ser enviado o valor -273°C.\n",
    "'''\n",
    "qtde_temps = 0\n",
    "soma_temps = 0\n",
    "temperatura = 0\n",
    "\n",
    "while temperatura != -273:\n",
    "    temperatura = input('Digite uma temperatura:')\n",
    "    temperatura = int(temperatura)\n",
    "\n",
    "    if temperatura == -273:\n",
    "        break\n",
    "    else: \n",
    "        qtde_temps = qtde_temps+1\n",
    "        soma_temps = soma_temps + temperatura\n",
    "\n",
    "mediaTemp = soma_temps/qtde_temps\n",
    "print(f'A média das temperaturas é {mediaTemp:.1f}')\n"
   ]
  },
  {
   "cell_type": "code",
   "execution_count": null,
   "metadata": {},
   "outputs": [],
   "source": [
    "'''\n",
    "Escreva um programa que calcule o fatorial de um número inteiro fornecido pela pessoa usuária. \n",
    "Lembrando que o fatorial de um número inteiro é a multiplicação desse número por todos os seus antecessores até o número 1. \n",
    "Por exemplo, o fatorial de 5 é 5 x 4 x 3 x 2 x 1 = 120.\n",
    "'''\n",
    "\n",
    "num = input(\"digite um número inteiro: \")\n",
    "num = int(num)\n",
    "\n",
    "resultado = 1\n",
    "\n",
    "for i in range(1, num + 1):\n",
    "    resultado *= i\n",
    "print(f'O fatorial de 5 é {resultado}.')\n",
    "\n"
   ]
  },
  {
   "cell_type": "code",
   "execution_count": null,
   "metadata": {},
   "outputs": [],
   "source": [
    "'''\n",
    " Escreva um programa que gere a tabuada de um número inteiro de 1 a 10, de acordo com a escolha da pessoa usuária. Como exemplo, para o número 2, a tabuada deve ser mostrada no seguinte formato:\n",
    "'''\n",
    "\n",
    "num = input(\"digite um número inteiro: \")\n",
    "num = int(num)\n",
    "\n",
    "for i in range(1, 11):\n",
    "    calc = num * i\n",
    "    print(f'{num} x {i} = {calc}')"
   ]
  },
  {
   "cell_type": "code",
   "execution_count": null,
   "metadata": {},
   "outputs": [],
   "source": [
    "''' \n",
    " Os números primos possuem várias aplicações dentro da Ciência de Dados em criptografia e segurança, por exemplo. \n",
    " Um número primo é aquele que é divisível apenas por um e por ele mesmo. \n",
    " Assim, faça um programa que peça um número inteiro e determine se ele é ou não um número primo.\n",
    "'''\n",
    "\n",
    "num = input(\"digite um número inteiro: \")\n",
    "num = int(num)\n",
    "\n",
    "if num % 2 != 0 or num == 2:\n",
    "    print(f'O número {num} é primo.')\n",
    "else:\n",
    "    print(f'O número {num} não é primo')"
   ]
  },
  {
   "cell_type": "code",
   "execution_count": null,
   "metadata": {},
   "outputs": [],
   "source": [
    "''' \n",
    "Vamos entender a distribuição de idades de pensionistas de uma empresa de previdência. \n",
    "Escreva um programa que leia as idades de uma quantidade não informada de clientes e mostre a distribuição em intervalos de [0-25], [26-50], [51-75] e [76-100]. \n",
    "Encerre a entrada de dados com um número negativo.\n",
    "'''\n",
    "idade = 0\n",
    "idade1 = 0\n",
    "idade2 = 0\n",
    "idade3 = 0\n",
    "idade4 = 0\n",
    "\n",
    "while idade >= 0:\n",
    "    idade = input(\"digite sua idade: \")\n",
    "    idade = int(idade)\n",
    "    if idade >= 0 and idade <= 25:\n",
    "        idade1 = idade1 + 1\n",
    "    elif idade >= 26 and idade <= 50:\n",
    "        idade2 = idade2 + 1\n",
    "    elif idade >= 51 and idade <= 75:\n",
    "        idade3 = idade3 + 1\n",
    "    elif idade >= 76 and idade <= 100:\n",
    "        idade4 = idade4 + 1\n",
    "    \n",
    "\n",
    "print(f'O número de funcionários no range de 0 à 25 anos é de {idade1} funcionários, o de funcionários no range de 26 à 50 anos é de {idade2}, o de funcionários no range de 51 à 75 anos é de {idade3} e o de funcionários no range de 76 à 100 anos é de {idade4}')\n",
    "\n"
   ]
  },
  {
   "cell_type": "code",
   "execution_count": null,
   "metadata": {},
   "outputs": [],
   "source": [
    "'''Em uma eleição para gerência em uma empresa com 20 pessoas colaboradoras, existem quatro candidatos(as). \n",
    "Escreva um programa que calcule o(a) vencedor(a) da eleição. A votação ocorreu da seguinte maneira:\n",
    "\n",
    "Cada colaborador(a) votou em uma das quatro pessoas candidatas (que representamos pelos números 1, 2, 3 e 4).\n",
    "Também foram contabilizados os votos nulos (representados pelo número 5) e os votos em branco (representados pelo número 6).\n",
    "Ao final da votação, o programa deve exibir o número total de votos para cada candidato(a), os nulos e os votos em branco. \n",
    "Além disso, deve calcular e exibir a porcentagem de votos nulos em relação ao total de votos e a porcentagem de votos em branco em relação ao total de votos.'''\n",
    "\n",
    "candidato1 = 0\n",
    "candidato2 = 0\n",
    "candidato3 = 0\n",
    "candidato4 = 0\n",
    "branco = 0\n",
    "nulo = 0\n",
    "\n",
    "for i in range(1, 21):\n",
    "    voto = input(\"Realize o seu voto (votar no número 0 equivale a votar em branco, votar em qualquer número diferente de 0, 1, 2, 3 e 4 equivale ao voto nulo): \")\n",
    "    voto = int(voto)\n",
    "\n",
    "    if voto == 1:\n",
    "        candidato1 = candidato1 + 1\n",
    "    elif voto == 2:\n",
    "        candidato2 = candidato2 + 1\n",
    "    elif voto == 3:\n",
    "        candidato3 = candidato3 + 1\n",
    "    elif voto == 4:\n",
    "        candidato4 = candidato4 + 1\n",
    "    elif voto == 0:\n",
    "        branco = branco + 1\n",
    "    else:\n",
    "        nulo = nulo + 1     \n",
    "\n",
    "total = (candidato1 + candidato2 + candidato3 + candidato4 + nulo + branco)\n",
    "\n",
    "perc1 = (candidato1 / total) * 100\n",
    "perc2 = (candidato2 / total) * 100\n",
    "perc3 = (candidato3 / total) * 100\n",
    "perc4 = (candidato4 / total) * 100\n",
    "branc = (branco / total) * 100\n",
    "nul = (nulo / total) * 100\n",
    "\n",
    "print(f' O candidato 1 recebeu {candidato1} votos, representando {perc1}%.\\n O candidato 2 recebeu {candidato2} votos , representando {perc2}%.\\n O candidato 3 recebeu {candidato3} votos, representando {perc3}%\\n O candidato 4 recebeu {candidato4} votos, representando {perc4}%.\\n Os votos em branco receberam {branco} votos, representando {branc}%. \\n Os votos nulos receberam {nulo} votos, representando {nul}%.')\n"
   ]
  },
  {
   "cell_type": "markdown",
   "metadata": {},
   "source": [
    "Listas"
   ]
  },
  {
   "cell_type": "code",
   "execution_count": null,
   "metadata": {},
   "outputs": [],
   "source": [
    "lista = ['Fabricio Daniel', 9.5, 9.0,8.0,True]\n",
    "lista\n",
    "\n"
   ]
  },
  {
   "cell_type": "code",
   "execution_count": null,
   "metadata": {},
   "outputs": [],
   "source": [
    "lista[0]"
   ]
  },
  {
   "cell_type": "code",
   "execution_count": null,
   "metadata": {},
   "outputs": [],
   "source": [
    "for elemento in lista:\n",
    "    print(elemento) \n"
   ]
  },
  {
   "cell_type": "code",
   "execution_count": null,
   "metadata": {},
   "outputs": [],
   "source": [
    "lista[3] = 10.0 \n",
    "\n",
    "lista"
   ]
  },
  {
   "cell_type": "code",
   "execution_count": null,
   "metadata": {},
   "outputs": [],
   "source": [
    "media = (lista[1] + lista[2] + lista[3])/3\n",
    "media"
   ]
  },
  {
   "cell_type": "code",
   "execution_count": null,
   "metadata": {},
   "outputs": [],
   "source": [
    "len(lista)"
   ]
  },
  {
   "cell_type": "code",
   "execution_count": null,
   "metadata": {},
   "outputs": [],
   "source": [
    "lista[1:3]"
   ]
  },
  {
   "cell_type": "code",
   "execution_count": null,
   "metadata": {},
   "outputs": [],
   "source": [
    "lista[3:]"
   ]
  },
  {
   "cell_type": "code",
   "execution_count": null,
   "metadata": {},
   "outputs": [],
   "source": [
    "lista.append(8.5)"
   ]
  },
  {
   "cell_type": "code",
   "execution_count": null,
   "metadata": {},
   "outputs": [],
   "source": [
    "lista.extend([10.0, 8.0, 9.0])"
   ]
  },
  {
   "cell_type": "code",
   "execution_count": null,
   "metadata": {},
   "outputs": [],
   "source": [
    "lista"
   ]
  },
  {
   "cell_type": "code",
   "execution_count": null,
   "metadata": {},
   "outputs": [],
   "source": [
    "lista.remove(9.5)"
   ]
  },
  {
   "cell_type": "code",
   "execution_count": null,
   "metadata": {},
   "outputs": [],
   "source": [
    "lista"
   ]
  },
  {
   "cell_type": "code",
   "execution_count": null,
   "metadata": {},
   "outputs": [],
   "source": [
    "dicionario = {'chave_1':1,\n",
    "              'chave_2':2}\n",
    "dicionario"
   ]
  },
  {
   "cell_type": "code",
   "execution_count": null,
   "metadata": {},
   "outputs": [],
   "source": [
    "cadastro = {'matricula': 2000168933,\n",
    "            'dia_cadastro': 25,\n",
    "            'mes_cadastro': 10,\n",
    "            'turma': '2E'}\n",
    "cadastro"
   ]
  },
  {
   "cell_type": "code",
   "execution_count": null,
   "metadata": {},
   "outputs": [],
   "source": [
    "cadastro['matricula']"
   ]
  },
  {
   "cell_type": "code",
   "execution_count": null,
   "metadata": {},
   "outputs": [],
   "source": [
    "cadastro['turma'] = '2G'"
   ]
  },
  {
   "cell_type": "code",
   "execution_count": null,
   "metadata": {},
   "outputs": [],
   "source": [
    "cadastro"
   ]
  },
  {
   "cell_type": "code",
   "execution_count": null,
   "metadata": {},
   "outputs": [],
   "source": [
    "cadastro['modalidade'] = 'EAD'"
   ]
  },
  {
   "cell_type": "code",
   "execution_count": null,
   "metadata": {},
   "outputs": [],
   "source": [
    "cadastro"
   ]
  },
  {
   "cell_type": "code",
   "execution_count": null,
   "metadata": {},
   "outputs": [],
   "source": []
  },
  {
   "cell_type": "code",
   "execution_count": null,
   "metadata": {},
   "outputs": [],
   "source": [
    "cadastro.pop('turma')"
   ]
  },
  {
   "cell_type": "code",
   "execution_count": null,
   "metadata": {},
   "outputs": [],
   "source": [
    "cadastro"
   ]
  },
  {
   "cell_type": "code",
   "execution_count": null,
   "metadata": {},
   "outputs": [],
   "source": [
    "cadastro.items()"
   ]
  },
  {
   "cell_type": "code",
   "execution_count": null,
   "metadata": {},
   "outputs": [],
   "source": [
    "cadastro.keys()"
   ]
  },
  {
   "cell_type": "code",
   "execution_count": null,
   "metadata": {},
   "outputs": [],
   "source": [
    "cadastro.values()"
   ]
  },
  {
   "cell_type": "code",
   "execution_count": 32,
   "metadata": {},
   "outputs": [
    {
     "name": "stdout",
     "output_type": "stream",
     "text": [
      "2000168933\n",
      "25\n",
      "10\n",
      "EAD\n"
     ]
    }
   ],
   "source": [
    "for chaves in cadastro.keys():\n",
    "    print(cadastro[chaves])"
   ]
  },
  {
   "cell_type": "code",
   "execution_count": 31,
   "metadata": {},
   "outputs": [
    {
     "name": "stdout",
     "output_type": "stream",
     "text": [
      "2000168933\n",
      "25\n",
      "10\n",
      "EAD\n"
     ]
    }
   ],
   "source": [
    "for valores in cadastro.values():\n",
    "    print(valores)"
   ]
  },
  {
   "cell_type": "code",
   "execution_count": 33,
   "metadata": {},
   "outputs": [
    {
     "name": "stdout",
     "output_type": "stream",
     "text": [
      "('matricula', 2000168933)\n",
      "('dia_cadastro', 25)\n",
      "('mes_cadastro', 10)\n",
      "('modalidade', 'EAD')\n"
     ]
    }
   ],
   "source": [
    "for itens in cadastro.items():\n",
    "    print(itens)"
   ]
  },
  {
   "cell_type": "code",
   "execution_count": 34,
   "metadata": {},
   "outputs": [],
   "source": [
    "loja = {'nomes': ['televisão', 'celular', 'notebook', 'geladeira', 'fogão'],\n",
    "        'precos': [2000, 1500, 3500, 4000, 1500]}\n"
   ]
  },
  {
   "cell_type": "code",
   "execution_count": 35,
   "metadata": {},
   "outputs": [
    {
     "name": "stdout",
     "output_type": "stream",
     "text": [
      "Chave: nomes\n",
      "Elementos:\n",
      "televisão\n",
      "celular\n",
      "notebook\n",
      "geladeira\n",
      "fogão\n",
      "Chave: precos\n",
      "Elementos:\n",
      "2000\n",
      "1500\n",
      "3500\n",
      "4000\n",
      "1500\n"
     ]
    }
   ],
   "source": [
    "for chave, elementos in loja.items():\n",
    "  print(f'Chave: {chave}\\nElementos:')\n",
    "  for dado in elementos:\n",
    "    print(dado)\n"
   ]
  }
 ],
 "metadata": {
  "kernelspec": {
   "display_name": "Python 3",
   "language": "python",
   "name": "python3"
  },
  "language_info": {
   "codemirror_mode": {
    "name": "ipython",
    "version": 3
   },
   "file_extension": ".py",
   "mimetype": "text/x-python",
   "name": "python",
   "nbconvert_exporter": "python",
   "pygments_lexer": "ipython3",
   "version": "3.12.4"
  }
 },
 "nbformat": 4,
 "nbformat_minor": 2
}
